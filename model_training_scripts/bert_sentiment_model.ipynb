{
 "cells": [
  {
   "cell_type": "markdown",
   "id": "eaaa43e5",
   "metadata": {},
   "source": [
    "# Overview"
   ]
  },
  {
   "cell_type": "markdown",
   "id": "8b05e263",
   "metadata": {},
   "source": [
    "This notebook is used to train a sentiment model on Hostelworld reviews. The trained model was push to the HuggingFace model hub.\n",
    "\n",
    "The code from the following HuggingFace tutorial was used to train the model:\n",
    "https://huggingface.co/docs/transformers/tasks/sequence_classification"
   ]
  },
  {
   "cell_type": "markdown",
   "id": "4d30cc90",
   "metadata": {},
   "source": [
    "# Import Packages"
   ]
  },
  {
   "cell_type": "code",
   "execution_count": null,
   "id": "f2b52135",
   "metadata": {},
   "outputs": [],
   "source": [
    "import pandas as pd\n",
    "import numpy as np\n",
    "import tensorflow as tf\n",
    "from transformers import AutoTokenizer, DataCollatorWithPadding, create_optimizer, TFAutoModelForSequenceClassification\n",
    "from transformers.keras_callbacks import KerasMetricCallback\n",
    "from datasets import load_dataset, Dataset\n",
    "from transformers.keras_callbacks import PushToHubCallback\n",
    "from huggingface_hub import notebook_login\n",
    "import evaluate"
   ]
  },
  {
   "cell_type": "markdown",
   "id": "a0a5ed2c",
   "metadata": {},
   "source": [
    "# Read In and Prepare Data"
   ]
  },
  {
   "cell_type": "code",
   "execution_count": null,
   "id": "1fe701c2",
   "metadata": {},
   "outputs": [],
   "source": [
    "data = pd.read_csv('data/message_df_labelled.csv')\n",
    "data = data.loc[data['rating'].notnull()]\n",
    "data = data[['split_text', 'rating']]\n",
    "data = data.rename(columns={\"split_text\":\"text\", \"rating\":\"label\"})\n",
    "data.loc[(data['label']==\"MIXED\")|(data['label']==\"NEUTRAL\"), \"label\"] = 'OTHER'"
   ]
  },
  {
   "cell_type": "code",
   "execution_count": null,
   "id": "e3f44e29",
   "metadata": {},
   "outputs": [],
   "source": [
    "df = Dataset.from_pandas(data)\n",
    "df = df.class_encode_column(\"label\")\n",
    "df = df.train_test_split(test_size=0.2, stratify_by_column=\"label\")\n",
    "# df[0]\n",
    "# df['text']"
   ]
  },
  {
   "cell_type": "code",
   "execution_count": null,
   "id": "53fe1601",
   "metadata": {},
   "outputs": [],
   "source": [
    "tokenizer = AutoTokenizer.from_pretrained(\"distilbert-base-uncased\")"
   ]
  },
  {
   "cell_type": "code",
   "execution_count": null,
   "id": "82721683",
   "metadata": {},
   "outputs": [],
   "source": [
    "def preprocess_function(examples):\n",
    "    return tokenizer(examples[\"text\"], truncation=True)"
   ]
  },
  {
   "cell_type": "code",
   "execution_count": null,
   "id": "2cb7aa58",
   "metadata": {},
   "outputs": [],
   "source": [
    "tokenized_data = df.map(preprocess_function, batched=True)\n",
    "tokenized_data"
   ]
  },
  {
   "cell_type": "code",
   "execution_count": null,
   "id": "fe0d09ce",
   "metadata": {},
   "outputs": [],
   "source": [
    "data_collator = DataCollatorWithPadding(tokenizer=tokenizer, return_tensors=\"tf\")"
   ]
  },
  {
   "cell_type": "markdown",
   "id": "99b6ba03",
   "metadata": {},
   "source": [
    "# Prepare Model and Train"
   ]
  },
  {
   "cell_type": "code",
   "execution_count": null,
   "id": "f2022d8b",
   "metadata": {},
   "outputs": [],
   "source": [
    "accuracy = evaluate.load(\"accuracy\")"
   ]
  },
  {
   "cell_type": "code",
   "execution_count": null,
   "id": "c549dbb6",
   "metadata": {},
   "outputs": [],
   "source": [
    "def compute_metrics(eval_pred):\n",
    "    predictions, labels = eval_pred\n",
    "    predictions = np.argmax(predictions, axis=1)\n",
    "    return accuracy.compute(predictions=predictions, references=labels)"
   ]
  },
  {
   "cell_type": "code",
   "execution_count": null,
   "id": "12b40ad6",
   "metadata": {},
   "outputs": [],
   "source": [
    "id2label = {0: \"NEGATIVE\", 1: \"OTHER\", 2:\"POSITIVE\"}\n",
    "label2id = {\"NEGATIVE\": 0, \"OTHER\": 1, \"POSITIVE\":2}"
   ]
  },
  {
   "cell_type": "code",
   "execution_count": null,
   "id": "b91c4007",
   "metadata": {},
   "outputs": [],
   "source": [
    "batch_size = 16\n",
    "num_epochs = 5\n",
    "batches_per_epoch = len(tokenized_data[\"train\"]) // batch_size\n",
    "total_train_steps = int(batches_per_epoch * num_epochs)\n",
    "optimizer, schedule = create_optimizer(init_lr=2e-5, num_warmup_steps=0, num_train_steps=total_train_steps)"
   ]
  },
  {
   "cell_type": "code",
   "execution_count": null,
   "id": "215319d1",
   "metadata": {},
   "outputs": [],
   "source": [
    "model = TFAutoModelForSequenceClassification.from_pretrained(\n",
    "    \"distilbert-base-uncased\", num_labels=3, id2label=id2label, label2id=label2id\n",
    ")"
   ]
  },
  {
   "cell_type": "code",
   "execution_count": null,
   "id": "2147f8fa",
   "metadata": {},
   "outputs": [],
   "source": [
    "tf_train_set = model.prepare_tf_dataset(\n",
    "    tokenized_data[\"train\"],\n",
    "    shuffle=True,\n",
    "    batch_size=16,\n",
    "    collate_fn=data_collator,\n",
    ")\n",
    "\n",
    "tf_validation_set = model.prepare_tf_dataset(\n",
    "    tokenized_data[\"test\"],\n",
    "    shuffle=False,\n",
    "    batch_size=16,\n",
    "    collate_fn=data_collator,\n",
    ")\n",
    "\n",
    "model.compile(optimizer=optimizer)"
   ]
  },
  {
   "cell_type": "code",
   "execution_count": null,
   "id": "43671291",
   "metadata": {},
   "outputs": [],
   "source": [
    "notebook_login()"
   ]
  },
  {
   "cell_type": "code",
   "execution_count": null,
   "id": "7e72bb92",
   "metadata": {},
   "outputs": [],
   "source": [
    "push_to_hub_callback = PushToHubCallback(\n",
    "    output_dir=\"hostel-reviews-sentiment-model\",\n",
    "    tokenizer=tokenizer,\n",
    ")\n",
    "metric_callback = KerasMetricCallback(metric_fn=compute_metrics, eval_dataset=tf_validation_set)\n",
    "callbacks = [metric_callback, push_to_hub_callback]"
   ]
  },
  {
   "cell_type": "code",
   "execution_count": null,
   "id": "7bac18b4",
   "metadata": {},
   "outputs": [],
   "source": [
    "model.fit(x=tf_train_set, validation_data=tf_validation_set, epochs=5, callbacks=callbacks)"
   ]
  },
  {
   "cell_type": "code",
   "execution_count": null,
   "id": "ad9cc8c2",
   "metadata": {},
   "outputs": [],
   "source": [
    "# if we don't push to hub can use the below to save and load the model\n",
    "# model.save_pretrained('hostelworld_sentiment_model')\n",
    "# test_model = TFAutoModelForSequenceClassification.from_pretrained(\"hostelworld_sentiment_model\")"
   ]
  },
  {
   "cell_type": "markdown",
   "id": "28bc27c3",
   "metadata": {},
   "source": [
    "# Predict on One Sample"
   ]
  },
  {
   "cell_type": "code",
   "execution_count": null,
   "id": "147d1de7",
   "metadata": {},
   "outputs": [],
   "source": [
    "test_model = TFAutoModelForSequenceClassification.from_pretrained(\"atowey01/hostel-reviews-sentiment-model\")"
   ]
  },
  {
   "cell_type": "code",
   "execution_count": null,
   "id": "b87b2dea",
   "metadata": {},
   "outputs": [],
   "source": [
    "text = \"Amazing hostel\""
   ]
  },
  {
   "cell_type": "code",
   "execution_count": null,
   "id": "2229ec76",
   "metadata": {},
   "outputs": [],
   "source": [
    "inputs = tokenizer(text, return_tensors=\"tf\")\n",
    "logits = model(**inputs).logits\n",
    "predicted_class_id = int(tf.math.argmax(logits, axis=-1)[0])\n",
    "print(model.config.id2label[predicted_class_id])\n",
    "print(float(tf.reduce_max(tf.nn.softmax(logits), axis=-1)))"
   ]
  }
 ],
 "metadata": {
  "kernelspec": {
   "display_name": "Python 3 (ipykernel)",
   "language": "python",
   "name": "python3"
  },
  "language_info": {
   "codemirror_mode": {
    "name": "ipython",
    "version": 3
   },
   "file_extension": ".py",
   "mimetype": "text/x-python",
   "name": "python",
   "nbconvert_exporter": "python",
   "pygments_lexer": "ipython3",
   "version": "3.8.8"
  }
 },
 "nbformat": 4,
 "nbformat_minor": 5
}
